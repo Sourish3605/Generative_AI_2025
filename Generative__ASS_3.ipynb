{
  "nbformat": 4,
  "nbformat_minor": 0,
  "metadata": {
    "colab": {
      "provenance": [],
      "include_colab_link": true
    },
    "kernelspec": {
      "name": "python3",
      "display_name": "Python 3"
    },
    "language_info": {
      "name": "python"
    }
  },
  "cells": [
    {
      "cell_type": "markdown",
      "metadata": {
        "id": "view-in-github",
        "colab_type": "text"
      },
      "source": [
        "<a href=\"https://colab.research.google.com/github/Sourish3605/Generative_AI_2025/blob/main/Generative__ASS_3.ipynb\" target=\"_parent\"><img src=\"https://colab.research.google.com/assets/colab-badge.svg\" alt=\"Open In Colab\"/></a>"
      ]
    },
    {
      "cell_type": "code",
      "execution_count": 1,
      "metadata": {
        "colab": {
          "base_uri": "https://localhost:8080/"
        },
        "id": "TnLKRijqSSWA",
        "outputId": "ac3c9cd7-6c8d-44a6-c5c9-7e66e57c2e58"
      },
      "outputs": [
        {
          "output_type": "stream",
          "name": "stdout",
          "text": [
            "The value of x at which f(x) has a minimum is: 1.63586104206045e-05\n"
          ]
        }
      ],
      "source": [
        "def gradient_descent(learning_rate=0.01, max_iters=1000, tolerance=1e-6):\n",
        "    x = 1.0  # Initial guess\n",
        "    for _ in range(max_iters):\n",
        "        grad = 20 * x**3 + 6 * x  # Compute the derivative f'(x)\n",
        "        new_x = x - learning_rate * grad  # Update x\n",
        "\n",
        "        if abs(new_x - x) < tolerance:  # Check for convergence\n",
        "            break\n",
        "\n",
        "        x = new_x  # Update x for next iteration\n",
        "\n",
        "    return x\n",
        "\n",
        "minimum_x = gradient_descent()\n",
        "print(\"The value of x at which f(x) has a minimum is:\", minimum_x)\n"
      ]
    },
    {
      "cell_type": "code",
      "source": [
        "# f (x) = 3x2 + 5e−y + 10\n",
        "def gradient_descent(learning_rate=0.01, max_iters=1000, tolerance=1e-6):\n",
        "    x = 1.0  # Initial guess for x\n",
        "    y = 1.0  # Initial guess for y\n",
        "    for _ in range(max_iters):\n",
        "        grad_x = 6 * x  # Partial derivative of g(x, y) with respect to x\n",
        "        grad_y = -5 * 2.71828**(-y) # Partial derivative of g(x, y) with respect to y (approx. value of e)\n",
        "\n",
        "        new_x = x - learning_rate * grad_x\n",
        "        new_y = y - learning_rate * grad_y\n",
        "\n",
        "        if abs(new_x - x) < tolerance and abs(new_y - y) < tolerance:\n",
        "            break\n",
        "\n",
        "        x = new_x\n",
        "        y = new_y\n",
        "\n",
        "    return x, y\n",
        "\n",
        "minimum_x, minimum_y = gradient_descent()\n",
        "print(\"The value of x at which g(x,y) has a minimum is:\", minimum_x)\n",
        "print(\"The value of y at which g(x,y) has a minimum is:\", minimum_y)"
      ],
      "metadata": {
        "colab": {
          "base_uri": "https://localhost:8080/"
        },
        "id": "CrWY9YkHhCGW",
        "outputId": "cc21d2df-5f62-42ee-8f70-25cbbe363611"
      },
      "execution_count": 2,
      "outputs": [
        {
          "output_type": "stream",
          "name": "stdout",
          "text": [
            "The value of x at which g(x,y) has a minimum is: 1.3423123924933694e-27\n",
            "The value of y at which g(x,y) has a minimum is: 3.966372788969171\n"
          ]
        }
      ]
    },
    {
      "cell_type": "code",
      "source": [
        "# z(x) = 1\n",
        "# 1 + e−x\n",
        "\n",
        "import math\n",
        "\n",
        "def sigmoid(x):\n",
        "    return 1 / (1 + math.exp(-x))\n",
        "\n",
        "def sigmoid_derivative(x):\n",
        "    s = sigmoid(x)\n",
        "    return s * (1 - s)\n",
        "\n",
        "def gradient_descent(learning_rate=0.1, max_iterations=1000, tolerance=1e-6):\n",
        "    x = 0  # Initial guess for x\n",
        "    for _ in range(max_iterations):\n",
        "        gradient = sigmoid_derivative(x)\n",
        "        new_x = x - learning_rate * gradient\n",
        "\n",
        "        if abs(new_x - x) < tolerance:\n",
        "            break\n",
        "\n",
        "        x = new_x\n",
        "    return x\n",
        "\n",
        "# Find the x that minimizes the sigmoid function (which is actually where the derivative is close to zero)\n",
        "min_x = gradient_descent()\n",
        "print(\"The value of x at which the sigmoid function has a minimum derivative is approximately:\", min_x)"
      ],
      "metadata": {
        "colab": {
          "base_uri": "https://localhost:8080/"
        },
        "id": "stFPS5p9hM7r",
        "outputId": "6c5a69d0-ba8f-4ebd-931b-16e6dd8fab47"
      },
      "execution_count": 3,
      "outputs": [
        {
          "output_type": "stream",
          "name": "stdout",
          "text": [
            "The value of x at which the sigmoid function has a minimum derivative is approximately: -4.512436490262131\n"
          ]
        }
      ]
    }
  ]
}