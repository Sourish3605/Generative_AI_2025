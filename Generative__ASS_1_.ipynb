{
  "nbformat": 4,
  "nbformat_minor": 0,
  "metadata": {
    "colab": {
      "provenance": [],
      "authorship_tag": "ABX9TyOtZe5aL5TABBhuBU/u6WpF",
      "include_colab_link": true
    },
    "kernelspec": {
      "name": "python3",
      "display_name": "Python 3"
    },
    "language_info": {
      "name": "python"
    }
  },
  "cells": [
    {
      "cell_type": "markdown",
      "metadata": {
        "id": "view-in-github",
        "colab_type": "text"
      },
      "source": [
        "<a href=\"https://colab.research.google.com/github/Sourish3605/Generative_AI_2025/blob/main/Generative__ASS_1_.ipynb\" target=\"_parent\"><img src=\"https://colab.research.google.com/assets/colab-badge.svg\" alt=\"Open In Colab\"/></a>"
      ]
    },
    {
      "cell_type": "code",
      "source": [
        "import numpy as np\n",
        "y_actual = (20, 30, 40, 50, 60)\n",
        "y_pred = (20.5, 30.3, 40.2, 50.6, 60.7)\n",
        "n = len(y_actual)\n",
        "y_actual = np.array(y_actual)\n",
        "y_pred = np.array(y_pred)\n",
        "\n",
        "mse = (y_actual - y_pred)**2\n",
        "mse = mse.sum() / n\n",
        "print(\"MSE:\", mse)\n",
        "mae=(y_actual-y_pred)\n",
        "mae=abs(mae).sum()/n\n",
        "print(\"MAE:\",mae)\n",
        "rmse=mse**0.5\n",
        "print(\"RMSE:\",rmse)"
      ],
      "metadata": {
        "id": "0UKiUGmsUBzt",
        "colab": {
          "base_uri": "https://localhost:8080/"
        },
        "outputId": "0259a552-2c6f-4658-ca9c-4e9e2fa957a0"
      },
      "execution_count": 23,
      "outputs": [
        {
          "output_type": "stream",
          "name": "stdout",
          "text": [
            "MSE: 0.24600000000000147\n",
            "MAE: 0.4600000000000016\n",
            "RMSE: 0.49598387070549127\n"
          ]
        }
      ]
    },
    {
      "cell_type": "code",
      "execution_count": 24,
      "metadata": {
        "id": "mVVl-ZRHNZo1",
        "colab": {
          "base_uri": "https://localhost:8080/"
        },
        "outputId": "3f4612e3-c19f-43b7-9ad2-bc034107611d"
      },
      "outputs": [
        {
          "output_type": "stream",
          "name": "stdout",
          "text": [
            "MSE: 0.24600000000000147\n",
            "MAE: 0.4600000000000016\n",
            "RMSE: 0.49598387070549127\n"
          ]
        }
      ],
      "source": [
        "import numpy as np\n",
        "\n",
        "y_actual=[20,30,40,50,60]\n",
        "y_pred=[20.5,30.3,40.2,50.6,60.7]\n",
        "n=len(y_actual)\n",
        "mse=np.square(np.subtract(y_actual,y_pred)).mean()\n",
        "mae=np.mean(np.absolute(np.subtract(y_actual,y_pred)))\n",
        "rmse=np.sqrt(mean_squared_error(y_actual,y_pred))\n",
        "print(\"MSE:\",mse)\n",
        "print(\"MAE:\",mae)\n",
        "print(\"RMSE:\",rmse)"
      ]
    },
    {
      "cell_type": "code",
      "source": [
        "import numpy as np\n",
        "from sklearn.metrics import mean_squared_error\n",
        "from sklearn.metrics import mean_absolute_error\n",
        "from sklearn.metrics import root_mean_squared_error\n",
        "y_actual=[20,30,40,50,60]\n",
        "y_pred=[20.5,30.3,40.2,50.6,60.7]\n",
        "n=len(y_actual)\n",
        "mse=mean_squared_error(y_actual,y_pred)\n",
        "mae=mean_absolute_error(y_actual,y_pred)\n",
        "rmse=root_mean_squared_error(y_actual,y_pred)\n",
        "print(\"MSE:\",mse)\n",
        "print(\"MAE:\",mae)\n",
        "print(\"RMSE:\",rmse)"
      ],
      "metadata": {
        "id": "ktBhq20ndc9_",
        "colab": {
          "base_uri": "https://localhost:8080/"
        },
        "outputId": "4e2b6cd6-ff86-47bc-e21c-7226cb5d2e4e"
      },
      "execution_count": 25,
      "outputs": [
        {
          "output_type": "stream",
          "name": "stdout",
          "text": [
            "MSE: 0.24600000000000147\n",
            "MAE: 0.4600000000000016\n",
            "RMSE: 0.49598387070549127\n"
          ]
        }
      ]
    }
  ]
}